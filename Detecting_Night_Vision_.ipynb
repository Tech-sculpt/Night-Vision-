{
  "nbformat": 4,
  "nbformat_minor": 0,
  "metadata": {
    "colab": {
      "provenance": [],
      "gpuType": "T4"
    },
    "kernelspec": {
      "name": "python3",
      "display_name": "Python 3"
    },
    "language_info": {
      "name": "python"
    },
    "accelerator": "GPU"
  },
  "cells": [
    {
      "cell_type": "code",
      "execution_count": 1,
      "metadata": {
        "colab": {
          "base_uri": "https://localhost:8080/"
        },
        "id": "1vpI2Py1K0Ge",
        "outputId": "b89a2a41-175d-49bd-fa9e-8567e501f86b"
      },
      "outputs": [
        {
          "output_type": "stream",
          "name": "stderr",
          "text": [
            "YOLOv5 🚀 v7.0-307-g920c721e Python-3.10.12 torch-2.2.1+cu121 CUDA:0 (Tesla T4, 15102MiB)\n"
          ]
        },
        {
          "output_type": "stream",
          "name": "stdout",
          "text": [
            "Setup complete ✅ (2 CPUs, 12.7 GB RAM, 28.9/78.2 GB disk)\n"
          ]
        }
      ],
      "source": [
        "!git clone https://github.com/ultralytics/yolov5 # clone\n",
        "\n",
        "%cd yolov5\n",
        "\n",
        "%pip install -qr requirements.txt comet_ml # install\n",
        "\n",
        "import torch\n",
        "\n",
        "import utils\n",
        "\n",
        "display = utils.notebook_init() # checks"
      ]
    },
    {
      "cell_type": "code",
      "source": [
        "!python detect.py --weights yolov5s.pt --img 640 --conf 0.25 --source data/images"
      ],
      "metadata": {
        "colab": {
          "base_uri": "https://localhost:8080/"
        },
        "id": "OaSZCg2BMA5f",
        "outputId": "5bbd3b8e-7582-40bd-c2f1-1122d3cf61b5"
      },
      "execution_count": 6,
      "outputs": [
        {
          "output_type": "stream",
          "name": "stdout",
          "text": [
            "\u001b[34m\u001b[1mdetect: \u001b[0mweights=['yolov5s.pt'], source=data/images, data=data/coco128.yaml, imgsz=[640, 640], conf_thres=0.25, iou_thres=0.45, max_det=1000, device=, view_img=False, save_txt=False, save_csv=False, save_conf=False, save_crop=False, nosave=False, classes=None, agnostic_nms=False, augment=False, visualize=False, update=False, project=runs/detect, name=exp, exist_ok=False, line_thickness=3, hide_labels=False, hide_conf=False, half=False, dnn=False, vid_stride=1\n",
            "YOLOv5 🚀 v7.0-307-g920c721e Python-3.10.12 torch-2.2.1+cu121 CUDA:0 (Tesla T4, 15102MiB)\n",
            "\n",
            "Fusing layers... \n",
            "YOLOv5s summary: 213 layers, 7225885 parameters, 0 gradients, 16.4 GFLOPs\n",
            "WARNING ⚠️ NMS time limit 0.550s exceeded\n",
            "image 1/2 /content/yolov5/data/images/bus.jpg: 640x480 4 persons, 1 bus, 46.9ms\n",
            "image 2/2 /content/yolov5/data/images/zidane.jpg: 384x640 2 persons, 2 ties, 48.2ms\n",
            "Speed: 0.5ms pre-process, 47.5ms inference, 289.1ms NMS per image at shape (1, 3, 640, 640)\n",
            "Results saved to \u001b[1mruns/detect/exp4\u001b[0m\n"
          ]
        }
      ]
    },
    {
      "cell_type": "code",
      "source": [
        "from google.colab import drive\n",
        "\n",
        "# Mount Google Drive\n",
        "drive.mount('/content/drive')"
      ],
      "metadata": {
        "colab": {
          "base_uri": "https://localhost:8080/"
        },
        "id": "M_xAcZNLMIK2",
        "outputId": "09cf0633-24a9-4cf4-c04f-d5bb97471f8f"
      },
      "execution_count": 3,
      "outputs": [
        {
          "output_type": "stream",
          "name": "stdout",
          "text": [
            "Mounted at /content/drive\n"
          ]
        }
      ]
    },
    {
      "cell_type": "code",
      "source": [
        "!python detect.py --weights /content/drive/MyDrive/best.pt --img 640 --conf 0.25 --source /content/drive/MyDrive/test/images"
      ],
      "metadata": {
        "colab": {
          "base_uri": "https://localhost:8080/"
        },
        "id": "6MahYo0OM1Z1",
        "outputId": "7cb14124-7e81-4052-c5c7-3e276742b58e"
      },
      "execution_count": 5,
      "outputs": [
        {
          "output_type": "stream",
          "name": "stdout",
          "text": [
            "\u001b[34m\u001b[1mdetect: \u001b[0mweights=['/content/drive/MyDrive/best.pt'], source=/content/drive/MyDrive/test/images, data=data/coco128.yaml, imgsz=[640, 640], conf_thres=0.25, iou_thres=0.45, max_det=1000, device=, view_img=False, save_txt=False, save_csv=False, save_conf=False, save_crop=False, nosave=False, classes=None, agnostic_nms=False, augment=False, visualize=False, update=False, project=runs/detect, name=exp, exist_ok=False, line_thickness=3, hide_labels=False, hide_conf=False, half=False, dnn=False, vid_stride=1\n",
            "YOLOv5 🚀 v7.0-307-g920c721e Python-3.10.12 torch-2.2.1+cu121 CUDA:0 (Tesla T4, 15102MiB)\n",
            "\n",
            "Fusing layers... \n",
            "Model summary: 157 layers, 7037095 parameters, 0 gradients, 15.8 GFLOPs\n",
            "image 1/17 /content/drive/MyDrive/test/images/FLIR_00012_jpeg.rf.8057c5c95b56afaf7d918a4865529eee.jpg: 640x640 1 car, 11.7ms\n",
            "image 2/17 /content/drive/MyDrive/test/images/FLIR_00024_jpeg.rf.fe00216d3576552b7d50a59796c1bbb7.jpg: 640x640 6 cars, 11.7ms\n",
            "image 3/17 /content/drive/MyDrive/test/images/FLIR_00025_jpeg.rf.59667ec6550957cd8d3606f907e9df5d.jpg: 640x640 2 cars, 11.7ms\n",
            "image 4/17 /content/drive/MyDrive/test/images/FLIR_00033_jpeg.rf.8c76fe6fff0f26d7aa28ddbe8dccb87c.jpg: 640x640 (no detections), 11.7ms\n",
            "image 5/17 /content/drive/MyDrive/test/images/FLIR_00037_jpeg.rf.c59eb1455fc08ed07df4721c64d1d90b.jpg: 640x640 (no detections), 11.7ms\n",
            "image 6/17 /content/drive/MyDrive/test/images/FLIR_00042_jpeg.rf.8b17a5a762a5a3a84dae908da0978382.jpg: 640x640 4 cars, 11.7ms\n",
            "image 7/17 /content/drive/MyDrive/test/images/FLIR_08865_jpeg.rf.9a2be0b2e4f19d86a794023c502d01ad.jpg: 640x640 3 cars, 5 person and bycles, 11.7ms\n",
            "image 8/17 /content/drive/MyDrive/test/images/FLIR_09021_jpeg.rf.b746efa32410768dd541040617caac36.jpg: 640x640 1 car, 1 light, 2 person and bycles, 2 trafficlights, 11.7ms\n",
            "image 9/17 /content/drive/MyDrive/test/images/FLIR_09022_jpeg.rf.43b4fb2a1dd8edc677e63d1e3aa398a4.jpg: 640x640 1 car, 1 light, 4 person and bycles, 2 trafficlights, 11.7ms\n",
            "image 10/17 /content/drive/MyDrive/test/images/FLIR_09023_jpeg.rf.ae74be0b008999666f1a7ee60c71d820.jpg: 640x640 2 cars, 1 light, 4 person and bycles, 3 trafficlights, 11.7ms\n",
            "image 11/17 /content/drive/MyDrive/test/images/FLIR_09025_jpeg.rf.ad0b59418566bdfe822f1f5ff7fb8f26.jpg: 640x640 2 cars, 1 light, 2 person and bycles, 2 trafficlights, 11.7ms\n",
            "image 12/17 /content/drive/MyDrive/test/images/FLIR_09041_jpeg.rf.1e842a213c9ce10e037e5f14c9585c36.jpg: 640x640 3 cars, 1 light, 7 person and bycles, 1 person, 3 trafficlights, 11.7ms\n",
            "image 13/17 /content/drive/MyDrive/test/images/FLIR_09120_jpeg.rf.ccddcd457ca2589eff4fd24492098076.jpg: 640x640 11 person and bycles, 1 traffic cone, 12.9ms\n",
            "image 14/17 /content/drive/MyDrive/test/images/FLIR_09126_jpeg.rf.fac8d3cc22fc99977fd6108f53a5697b.jpg: 640x640 6 cars, 10 person and bycles, 2 traffic cones, 11.7ms\n",
            "image 15/17 /content/drive/MyDrive/test/images/FLIR_09146_jpeg.rf.45cafcd8f481002fa38748573e357c6c.jpg: 640x640 5 cars, 1 light, 4 person and bycles, 11.7ms\n",
            "image 16/17 /content/drive/MyDrive/test/images/FLIR_09157_jpeg.rf.8c49cd4b6108cb4154b30dee443cafd4.jpg: 640x640 4 cars, 1 light, 2 person and bycles, 11.7ms\n",
            "image 17/17 /content/drive/MyDrive/test/images/FLIR_09165_jpeg.rf.d267f31714f9c9ae8bd0d44594dfffd8.jpg: 640x640 1 car, 1 light, 4 person and bycles, 11.7ms\n",
            "Speed: 0.9ms pre-process, 11.8ms inference, 32.8ms NMS per image at shape (1, 3, 640, 640)\n",
            "Results saved to \u001b[1mruns/detect/exp3\u001b[0m\n"
          ]
        }
      ]
    }
  ]
}